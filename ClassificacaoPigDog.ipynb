{
 "cells": [
  {
   "cell_type": "code",
   "execution_count": 1,
   "metadata": {},
   "outputs": [
    {
     "name": "stdout",
     "output_type": "stream",
     "text": [
      "\n",
      "System:\n",
      "    python: 3.7.3 (default, Mar 27 2019, 16:54:48)  [Clang 4.0.1 (tags/RELEASE_401/final)]\n",
      "executable: /Users/lucheol/anaconda3/bin/python\n",
      "   machine: Darwin-19.6.0-x86_64-i386-64bit\n",
      "\n",
      "BLAS:\n",
      "    macros: SCIPY_MKL_H=None, HAVE_CBLAS=None\n",
      "  lib_dirs: /Users/lucheol/anaconda3/lib\n",
      "cblas_libs: mkl_rt, pthread\n",
      "\n",
      "Python deps:\n",
      "       pip: 19.1.1\n",
      "setuptools: 41.0.1\n",
      "   sklearn: 0.21.2\n",
      "     numpy: 1.16.4\n",
      "     scipy: 1.3.0\n",
      "    Cython: 0.29.12\n",
      "    pandas: 0.24.2\n"
     ]
    }
   ],
   "source": [
    "import sklearn\n",
    "sklearn.show_versions()"
   ]
  },
  {
   "cell_type": "code",
   "execution_count": null,
   "metadata": {},
   "outputs": [],
   "source": [
    "#!pip install scikit-learn"
   ]
  },
  {
   "cell_type": "code",
   "execution_count": 9,
   "metadata": {},
   "outputs": [],
   "source": [
    "# features, labels, treino, acuracia\n",
    "\n",
    "# tem pelo longo?\n",
    "# tem focinho longo?\n",
    "# faz au au?\n",
    "\n",
    "# 1-> Tem / 0-> Não tem a a feature\n",
    "\n",
    "#dataset\n",
    "\n",
    "pig1 = [0, 1, 0] # porco normal \n",
    "pig2 = [1, 1, 0] # porco ovelha\n",
    "pig3 = [0, 1, 1] # baby do filme\n",
    "\n",
    "dog1 = [1, 1, 1] # golden\n",
    "dog2 = [0, 1, 1] # chihuahua\n",
    "dog3 = [0, 0, 1] # pug\n",
    "\n",
    "# f(x) = y\n",
    "# pig -> 1, dog -> 0\n",
    "\n",
    "treino_x = [pig1, pig2, pig3, dog1, dog2, dog3]\n",
    "treino_y = [1, 1, 1, 0, 0, 0]\n"
   ]
  },
  {
   "cell_type": "code",
   "execution_count": 3,
   "metadata": {},
   "outputs": [],
   "source": [
    "from sklearn.svm import LinearSVC"
   ]
  },
  {
   "cell_type": "code",
   "execution_count": 10,
   "metadata": {},
   "outputs": [
    {
     "data": {
      "text/plain": [
       "LinearSVC(C=1.0, class_weight=None, dual=True, fit_intercept=True,\n",
       "          intercept_scaling=1, loss='squared_hinge', max_iter=1000,\n",
       "          multi_class='ovr', penalty='l2', random_state=None, tol=0.0001,\n",
       "          verbose=0)"
      ]
     },
     "execution_count": 10,
     "metadata": {},
     "output_type": "execute_result"
    }
   ],
   "source": [
    "model = LinearSVC()\n",
    "model.fit(treino_x, treino_y)"
   ]
  },
  {
   "cell_type": "code",
   "execution_count": 23,
   "metadata": {},
   "outputs": [
    {
     "data": {
      "text/plain": [
       "array([0])"
      ]
     },
     "execution_count": 23,
     "metadata": {},
     "output_type": "execute_result"
    }
   ],
   "source": [
    "animal_1 = [1,0,0]\n",
    "model.predict([animal_1])"
   ]
  },
  {
   "cell_type": "code",
   "execution_count": 15,
   "metadata": {},
   "outputs": [],
   "source": [
    "animal_a = [1,1,0]\n",
    "animal_b = [1,0,0]\n",
    "animal_c = [0,1,1]\n",
    "\n",
    "teste_x = [animal_a, animal_b, animal_c]\n",
    "teste_y = [1, 1, 0] # resposta esperada/correta"
   ]
  },
  {
   "cell_type": "code",
   "execution_count": 16,
   "metadata": {},
   "outputs": [
    {
     "data": {
      "text/plain": [
       "array([1, 0, 0])"
      ]
     },
     "execution_count": 16,
     "metadata": {},
     "output_type": "execute_result"
    }
   ],
   "source": [
    "previsoes = model.predict(teste_x)\n",
    "previsoes"
   ]
  },
  {
   "cell_type": "code",
   "execution_count": 20,
   "metadata": {},
   "outputs": [
    {
     "data": {
      "text/plain": [
       "0.6666666666666666"
      ]
     },
     "execution_count": 20,
     "metadata": {},
     "output_type": "execute_result"
    }
   ],
   "source": [
    "# accuracy\n",
    "#[1, 1, 0] == [1, 0, 0] => [A, E, A] 2 em 3 => 2/3 = 66,6%\n",
    "(previsoes == teste_y).sum() / len(teste_y)"
   ]
  },
  {
   "cell_type": "code",
   "execution_count": 19,
   "metadata": {},
   "outputs": [
    {
     "data": {
      "text/plain": [
       "3"
      ]
     },
     "execution_count": 19,
     "metadata": {},
     "output_type": "execute_result"
    }
   ],
   "source": [
    "len(teste_y)"
   ]
  },
  {
   "cell_type": "code",
   "execution_count": 22,
   "metadata": {},
   "outputs": [
    {
     "name": "stdout",
     "output_type": "stream",
     "text": [
      "Taxa de acerto: 66.66666666666666%\n"
     ]
    }
   ],
   "source": [
    "from sklearn.metrics import accuracy_score\n",
    "taxa_acerto = accuracy_score(teste_y, previsoes)\n",
    "print(f'Taxa de acerto: {taxa_acerto*100}%')"
   ]
  },
  {
   "cell_type": "code",
   "execution_count": null,
   "metadata": {},
   "outputs": [],
   "source": []
  }
 ],
 "metadata": {
  "kernelspec": {
   "display_name": "Python 3",
   "language": "python",
   "name": "python3"
  },
  "language_info": {
   "codemirror_mode": {
    "name": "ipython",
    "version": 3
   },
   "file_extension": ".py",
   "mimetype": "text/x-python",
   "name": "python",
   "nbconvert_exporter": "python",
   "pygments_lexer": "ipython3",
   "version": "3.7.3"
  }
 },
 "nbformat": 4,
 "nbformat_minor": 2
}
